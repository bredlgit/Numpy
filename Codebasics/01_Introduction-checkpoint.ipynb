{
 "cells": [
  {
   "cell_type": "markdown",
   "metadata": {},
   "source": [
    "<img src=\"numpy-hd.jpg\">"
   ]
  },
  {
   "cell_type": "markdown",
   "metadata": {},
   "source": [
    "Numpy's most useful feature is the n dimensional array object aka ndarray"
   ]
  },
  {
   "cell_type": "code",
   "execution_count": 10,
   "metadata": {},
   "outputs": [],
   "source": [
    "import numpy as np # To import numpy as the np shortcut\n",
    "import sys\n",
    "import time"
   ]
  },
  {
   "cell_type": "markdown",
   "metadata": {},
   "source": [
    "**To create an array**<br>\n",
    "We simply use the array method to numpy and pass it a list as an argument"
   ]
  },
  {
   "cell_type": "code",
   "execution_count": 4,
   "metadata": {},
   "outputs": [
    {
     "data": {
      "text/plain": [
       "array([1, 2, 3])"
      ]
     },
     "execution_count": 4,
     "metadata": {},
     "output_type": "execute_result"
    }
   ],
   "source": [
    "a = np.array([1,2,3]) \n",
    "a"
   ]
  },
  {
   "cell_type": "markdown",
   "metadata": {},
   "source": [
    "We end up with something that looks very similar to a list and behaves very much like a list. You can access the elements by index..."
   ]
  },
  {
   "cell_type": "code",
   "execution_count": 5,
   "metadata": {},
   "outputs": [
    {
     "data": {
      "text/plain": [
       "1"
      ]
     },
     "execution_count": 5,
     "metadata": {},
     "output_type": "execute_result"
    }
   ],
   "source": [
    "a[0] # To give us the first element of the array...just like you would in a list"
   ]
  },
  {
   "cell_type": "markdown",
   "metadata": {},
   "source": [
    "**Why do I need the numpy array?**<br>\n",
    "There are three main benefits of using a Numpy array over a python list...<br>\n",
    " - Less Memory\n",
    " - Fast\n",
    " - Convenient\n",
    " \n",
    "**Less Memory - Comparing a Python list to a Numpy array**"
   ]
  },
  {
   "cell_type": "code",
   "execution_count": 8,
   "metadata": {},
   "outputs": [
    {
     "name": "stdout",
     "output_type": "stream",
     "text": [
      "14000\n",
      "4000\n"
     ]
    }
   ],
   "source": [
    "l = range(1000)\n",
    "print(sys.getsizeof(5) * len(l))\n",
    "\n",
    "array = np.arange(1000)\n",
    "print(array.size * array.itemsize)"
   ]
  },
  {
   "cell_type": "markdown",
   "metadata": {},
   "source": [
    "1.) *<font color = blue>l = range(1000)</font>* - Creates a list with 1000 elements<br>\n",
    "2.) _<font color = blue>print(sys.getsizeof(5) \\* len(l))</font>_ - Prints the size of the list\n",
    " - To get the size you need to pass it one element, it could be any number but we chose 5<br>"
   ]
  },
  {
   "cell_type": "markdown",
   "metadata": {},
   "source": [
    "3.) *<font color = blue>array = np.arange(1000)</font>* - Next, we create a Numpy array with 1000 elements<br>\n",
    " - arange is virtually the same as range - it is the Numpy version and behaves very similarly<br>"
   ]
  },
  {
   "cell_type": "markdown",
   "metadata": {},
   "source": [
    "4.) _<font color = blue>print(array.size * array.itemsize)</font>_ - To get the size of this array, you multiply the size of the array (array.size) by every indvidual element in the array (array.itemsize)<br>\n",
    "\n",
    "**Results**<br>\n",
    "We see that the Python list is 14,000 bytes while the Numpy array is only 4000 bytes. This is because the size of just one Python object is much bigger than the Numpy array elements. ICYMI each list element is 14bytes and each array element is 4bytes.<br><br>\n",
    "\n",
    "The diagram below shows the memory represerntation of lists and Numpy arrays. At the implementation level, the array essentially contains a single pointer to one contiguous block of data. The Python list, on the other hand, contains a pointer to a block of pointers, each of which in turn points to a full Python object like the Python integer we saw earlier. This is why there is such a difference between a Numpy array and a Python list. For small arrays you will not notice much difference but for very large amounts of data then it would make more sense to a Numpy array "
   ]
  },
  {
   "cell_type": "markdown",
   "metadata": {},
   "source": [
    "<img src=\"arrayvlist.png\" height=\"500\" width=\"500\">"
   ]
  },
  {
   "cell_type": "markdown",
   "metadata": {},
   "source": [
    "**Fast**<br>"
   ]
  },
  {
   "cell_type": "code",
   "execution_count": 12,
   "metadata": {},
   "outputs": [
    {
     "name": "stdout",
     "output_type": "stream",
     "text": [
      "Python list took 0.99945068359375\n",
      "Numpy array took 0.0\n"
     ]
    }
   ],
   "source": [
    "#Timing how long a Python list and a Numpy array take to complete the same operation\n",
    "size = 1000 # Number of operations to be performed\n",
    "\n",
    "#Creating Python Lists\n",
    "l1 = range(size)\n",
    "l2 = range (size)\n",
    "\n",
    "#Creating Numpy arrays\n",
    "a1 = np.arange(size)\n",
    "a2 = np.arange(size)\n",
    "\n",
    "#Timinig the Python operation\n",
    "start = time.time()\n",
    "result = [(x + y) for x,y in zip(l1,l2)]\n",
    "print(\"Python list took\", (time.time() - start) * 1000)\n",
    "\n",
    "#Timing the Numpy array\n",
    "start = time.time()\n",
    "result = a1 + a2\n",
    "print(\"Numpy array took\", (time.time() - start) * 1000)"
   ]
  },
  {
   "cell_type": "markdown",
   "metadata": {},
   "source": [
    "As we said before, over a small number of elements the difference will be neglible. So we are going to run the code again but this time with 1m elements and we'll see what the time difference is then..."
   ]
  },
  {
   "cell_type": "code",
   "execution_count": 14,
   "metadata": {},
   "outputs": [
    {
     "name": "stdout",
     "output_type": "stream",
     "text": [
      "Python list took 124.94564056396484\n",
      "Numpy array took 14.99032974243164\n"
     ]
    }
   ],
   "source": [
    "#Timing how long a Python list and a Numpy array take to complete the same operation\n",
    "size = 1000000 # Number of operations to be performed\n",
    "\n",
    "#Creating Python Lists\n",
    "l1 = range(size)\n",
    "l2 = range (size)\n",
    "\n",
    "#Creating Numpy arrays\n",
    "a1 = np.arange(size)\n",
    "a2 = np.arange(size)\n",
    "\n",
    "#Timinig the Python operation\n",
    "start = time.time()\n",
    "result = [(x + y) for x,y in zip(l1,l2)]\n",
    "print(\"Python list took\", (time.time() - start) * 1000)\n",
    "\n",
    "#Timing the Numpy array\n",
    "start = time.time()\n",
    "result = a1 + a2\n",
    "print(\"Numpy array took\", (time.time() - start) * 1000)"
   ]
  },
  {
   "cell_type": "markdown",
   "metadata": {},
   "source": [
    "We can see now that the Numpy array took almost 10 times less time than the Python list to complete a similar operation. So when we are processing millions of numbers, it makes much more sense to use a Numpy array.<br><br>\n",
    "**Convenient**<br>\n",
    "You can see that to add two lists together, in Python you need quite a complicated bit of code to get the job done. Whereas in Numpy, you only need to do a simple mathematical sum. You can also do the other mathematical operations in much the same way..."
   ]
  },
  {
   "cell_type": "code",
   "execution_count": 17,
   "metadata": {},
   "outputs": [
    {
     "data": {
      "text/plain": [
       "array([ 4, 10, 18])"
      ]
     },
     "execution_count": 17,
     "metadata": {},
     "output_type": "execute_result"
    }
   ],
   "source": [
    "a3 = np.array([1,2,3])\n",
    "a4 = np.array([4,5,6])\n",
    "\n",
    "a3 * a4"
   ]
  },
  {
   "cell_type": "code",
   "execution_count": 18,
   "metadata": {},
   "outputs": [
    {
     "data": {
      "text/plain": [
       "array([4. , 2.5, 2. ])"
      ]
     },
     "execution_count": 18,
     "metadata": {},
     "output_type": "execute_result"
    }
   ],
   "source": [
    "a4 / a3"
   ]
  },
  {
   "cell_type": "code",
   "execution_count": 19,
   "metadata": {},
   "outputs": [
    {
     "data": {
      "text/plain": [
       "array([3, 3, 3])"
      ]
     },
     "execution_count": 19,
     "metadata": {},
     "output_type": "execute_result"
    }
   ],
   "source": [
    "a4 - a3"
   ]
  },
  {
   "cell_type": "markdown",
   "metadata": {},
   "source": [
    "All very simple and much more convenient than doing them in a Python list"
   ]
  },
  {
   "cell_type": "code",
   "execution_count": null,
   "metadata": {},
   "outputs": [],
   "source": []
  }
 ],
 "metadata": {
  "kernelspec": {
   "display_name": "Python 3",
   "language": "python",
   "name": "python3"
  },
  "language_info": {
   "codemirror_mode": {
    "name": "ipython",
    "version": 3
   },
   "file_extension": ".py",
   "mimetype": "text/x-python",
   "name": "python",
   "nbconvert_exporter": "python",
   "pygments_lexer": "ipython3",
   "version": "3.6.5"
  }
 },
 "nbformat": 4,
 "nbformat_minor": 2
}
